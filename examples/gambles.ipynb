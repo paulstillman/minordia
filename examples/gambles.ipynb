{
 "cells": [
  {
   "cell_type": "code",
   "execution_count": 1,
   "metadata": {},
   "outputs": [],
   "source": [
    "#@Imports\n",
    "import sys\n",
    "import os\n",
    "path = os.path.abspath('..')\n",
    "if path not in sys.path:\n",
    "  sys.path.insert(0, path)\n",
    "\n",
    "%load_ext autoreload\n",
    "\n",
    "import numpy as np\n",
    "import matplotlib.pyplot as plt\n",
    "\n",
    "from IPython.display import clear_output\n",
    "from retry import retry\n",
    "\n",
    "from language_models.ollama_model import OllamaLanguageModel\n",
    "\n",
    "from components.components import compute_desire_for_gamble, multiple_choice_preferences"
   ]
  },
  {
   "cell_type": "code",
   "execution_count": 2,
   "metadata": {},
   "outputs": [],
   "source": [
    "system_message = (\"This is an agent based model. \"\n",
    "  f\"The goal of the LLM to to play characters in a game, and act as humanlike as possible. \"\n",
    "  \"Ideally, human observers should not be able to tell the difference between the LLM and a human player. \"\n",
    ")\n",
    "\n",
    "model = OllamaLanguageModel(\n",
    "\"llama3:70b\", system_message=system_message, streaming=False\n",
    ")"
   ]
  },
  {
   "cell_type": "code",
   "execution_count": 3,
   "metadata": {},
   "outputs": [
    {
     "name": "stdout",
     "output_type": "stream",
     "text": [
      "╔════════════════╗\n",
      "║   Trial 9:     ║\n",
      "╠════════════════╣\n",
      "║  EV:    2.0    ║\n",
      "║  Value: 0.2    ║\n",
      "║  Action: Sometimes ║\n",
      "╚════════════════╝\n"
     ]
    }
   ],
   "source": [
    "expected_values = []\n",
    "attitudes = []\n",
    "for i in range(10):\n",
    "  # Simulate decision making for each player.\n",
    "  Good_value = np.random.choice(np.arange(10))\n",
    "  Bad_value = np.random.choice(np.arange(10))\n",
    "  P_w = np.random.choice(np.arange(10) / 10)\n",
    "\n",
    "  # Compute the expected value of the gamble.\n",
    "  expected_value = P_w * Good_value + (1 - P_w) * -1*Bad_value\n",
    "  gamble_input = f\"Probability of Winning (P_w): {P_w}, Positive Value on Win (G): {Good_value}, Negative Value on Loss (B): {-Bad_value}\"\n",
    "  # Compute affective LLM value estimate\n",
    "  llm_value = compute_desire_for_gamble(model, gamble_input)\n",
    "  expected_values.append(expected_value)\n",
    "  attitudes.append(llm_value)\n",
    "  takepass =  multiple_choice_preferences(model, None, gamble_input, llm_value)\n",
    "\n",
    "  # Print trial outputs\n",
    "  clear_output(wait = True)\n",
    "  print(f\"╔════════════════╗\")\n",
    "  print(f\"║   {'Trial ' + str(i+1)+':':<10}   ║\")\n",
    "  print(f\"╠════════════════╣\")\n",
    "  print(f\"║  EV:    {round(expected_value, 2):<6} ║\")\n",
    "  print(f\"║  Value: {round(llm_value, 2):<6} ║\")\n",
    "  print(f\"║  Action: {takepass} ║\")\n",
    "  print(f\"╚════════════════╝\")"
   ]
  },
  {
   "cell_type": "code",
   "execution_count": null,
   "metadata": {},
   "outputs": [],
   "source": [
    "%autoreload 2\n",
    "from components.prospect_theory import curve_fit, plot_curve\n",
    "\n",
    "outcomes = curve_fit(expected_values, attitudes)\n",
    "plot_curve(*outcomes, expected_values, attitudes, title = \"LlaMA3: Risky gamble value estimates\")"
   ]
  },
  {
   "cell_type": "code",
   "execution_count": null,
   "metadata": {},
   "outputs": [],
   "source": []
  },
  {
   "cell_type": "code",
   "execution_count": null,
   "metadata": {},
   "outputs": [],
   "source": []
  }
 ],
 "metadata": {
  "kernelspec": {
   "display_name": "Python 3",
   "language": "python",
   "name": "python3"
  },
  "language_info": {
   "codemirror_mode": {
    "name": "ipython",
    "version": 3
   },
   "file_extension": ".py",
   "mimetype": "text/x-python",
   "name": "python",
   "nbconvert_exporter": "python",
   "pygments_lexer": "ipython3",
   "version": "3.10.4"
  }
 },
 "nbformat": 4,
 "nbformat_minor": 2
}
