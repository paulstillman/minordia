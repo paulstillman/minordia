{
 "cells": [
  {
   "cell_type": "code",
   "execution_count": 11,
   "metadata": {},
   "outputs": [
    {
     "name": "stdout",
     "output_type": "stream",
     "text": [
      "The autoreload extension is already loaded. To reload it, use:\n",
      "  %reload_ext autoreload\n"
     ]
    }
   ],
   "source": [
    "#@Imports\n",
    "import sys\n",
    "import os\n",
    "path = os.path.abspath('..')\n",
    "if path not in sys.path:\n",
    "  sys.path.insert(0, path)\n",
    "\n",
    "%load_ext autoreload\n",
    "\n",
    "import re\n",
    "import numpy as np\n",
    "import matplotlib.pyplot as plt\n",
    "\n",
    "from IPython.display import clear_output\n",
    "from retry import retry\n",
    "\n",
    "from language_models.ollama_model import OllamaLanguageModel\n",
    "\n",
    "from components.components import compute_desire_for_gamble, multiple_choice_preferences, compute_distribution_of_desire_for_gamble"
   ]
  },
  {
   "cell_type": "code",
   "execution_count": 2,
   "metadata": {},
   "outputs": [],
   "source": [
    "system_message = (\"This is an agent based model. \"\n",
    "  f\"The goal of the LLM to to play characters in a game, and act as humanlike as possible. \"\n",
    "  \"Ideally, human observers should not be able to tell the difference between the LLM and a human player. \"\n",
    ")\n",
    "\n",
    "model = OllamaLanguageModel(\n",
    "\"llama3:70b\", system_message=system_message, streaming=False\n",
    ")"
   ]
  },
  {
   "cell_type": "code",
<<<<<<< HEAD
   "execution_count": 9,
=======
   "execution_count": 21,
>>>>>>> 1dba8c7081302788b9cd54173344074c26cebdf1
   "metadata": {},
   "outputs": [
    {
     "name": "stdout",
     "output_type": "stream",
     "text": [
<<<<<<< HEAD
      "╔════════════════╗\n",
      "║   Trial 1:     ║\n",
      "╠════════════════╣\n",
      "║  EV:    4.2    ║\n",
      "║  Value: 0.42   ║\n",
      "║  Action: Often ║\n",
      "╚════════════════╝\n",
      "0.01, 0.02, 0.05, 0.10, 0.15, 0.20, 0.25, 0.30, 0.40, 0.50\n",
      "╔════════════════╗\n",
      "║   Trial 2:     ║\n",
      "╠════════════════╣\n",
      "║  EV:    7.2    ║\n",
      "║  Value: 0.72   ║\n",
      "║  Action: Often ║\n",
      "╚════════════════╝\n",
      "0.0, 0.0, 0.0, 0.0, 0.0, 0.05, 0.15, 0.3, 0.4, 0.1\n",
      "╔════════════════╗\n",
      "║   Trial 3:     ║\n",
      "╠════════════════╣\n",
      "║  EV:    -0.8   ║\n",
      "║  Value: -0.4   ║\n",
      "║  Action: Rarely ║\n",
      "╚════════════════╝\n",
      "0.01, 0.05, 0.10, 0.15, 0.20, 0.25, 0.30, 0.40, 0.50, 0.05\n",
      "╔════════════════╗\n",
      "║   Trial 4:     ║\n",
      "╠════════════════╣\n",
      "║  EV:    4.6    ║\n",
      "║  Value: 0.42   ║\n",
      "║  Action: Often ║\n",
      "╚════════════════╝\n",
      "0.01, 0.02, 0.05, 0.1, 0.15, 0.2, 0.3, 0.4, 0.5, 0.6\n",
      "╔════════════════╗\n",
      "║   Trial 5:     ║\n",
      "╠════════════════╣\n",
      "║  EV:    1.0    ║\n",
      "║  Value: -0.2   ║\n",
      "║  Action: Rarely ║\n",
      "╚════════════════╝\n",
      "0.01, 0.05, 0.1, 0.15, 0.2, 0.3, 0.4, 0.5, 0.6, 0.7, 0.05\n",
      "╔════════════════╗\n",
      "║   Trial 6:     ║\n",
      "╠════════════════╣\n",
      "║  EV:    -4.2   ║\n",
      "║  Value: -0.4   ║\n",
      "║  Action: Rarely ║\n",
      "╚════════════════╝\n",
      "Here is the list of probabilities:\n",
      "\n",
      "[0.05, 0.05, 0.1, 0.15, 0.2, 0.3, 0.05, 0.05, 0.05, 0.05, 0.05]\n",
      "╔════════════════╗\n",
      "║   Trial 7:     ║\n",
      "╠════════════════╣\n",
      "║  EV:    2.5    ║\n",
      "║  Value: 0.25   ║\n",
      "║  Action: Sometimes ║\n",
      "╚════════════════╝\n",
      "0.01, 0.01, 0.05, 0.10, 0.20, 0.30, 0.40, 0.50, 0.60, 0.70, 1.00\n",
      "╔════════════════╗\n",
      "║   Trial 8:     ║\n",
      "╠════════════════╣\n",
      "║  EV:    -3.0   ║\n",
      "║  Value: -1.0   ║\n",
      "║  Action: Never ║\n",
      "╚════════════════╝\n",
      "0.05, 0.05, 0.1, 0.15, 0.2, 0.3, 0.05, 0.02, 0.01, 0.005\n",
      "╔════════════════╗\n",
      "║   Trial 9:     ║\n",
      "╠════════════════╣\n",
      "║  EV:    1.2    ║\n",
      "║  Value: 0.12   ║\n",
      "║  Action: Often ║\n",
      "╚════════════════╝\n",
      "0.01, 0.02, 0.05, 0.10, 0.20, 0.30, 0.40, 0.50, 0.60, 0.80\n",
      "╔════════════════╗\n",
      "║   Trial 10:    ║\n",
      "╠════════════════╣\n",
      "║  EV:    1.4    ║\n",
      "║  Value: 0.2    ║\n",
      "║  Action: Often ║\n",
      "╚════════════════╝\n",
      "0.02, 0.05, 0.08, 0.12, 0.15, 0.2, 0.25, 0.3, 0.35, 0.4\n"
     ]
=======
      "╔══════════════════╗\n",
      "║     Trial 1:     ║\n",
      "╠══════════════════╣\n",
      "║ EV:    -2.0      ║\n",
      "║ Value: 0.44      ║\n",
      "║ Take?: Sometimes ║\n",
      "╚══════════════════╝\n",
      "[0.15, 0.12, 0.09, 0.06, 0.04, 0.02, 0.23, 0.13, 0.05, 0.01, 0.1]\n"
     ]
    },
    {
     "data": {
      "text/plain": [
       "<BarContainer object of 11 artists>"
      ]
     },
     "execution_count": 21,
     "metadata": {},
     "output_type": "execute_result"
    },
    {
     "data": {
      "image/png": "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",
      "text/plain": [
       "<Figure size 640x480 with 1 Axes>"
      ]
     },
     "metadata": {},
     "output_type": "display_data"
>>>>>>> 1dba8c7081302788b9cd54173344074c26cebdf1
    }
   ],
   "source": [
    "expected_values = []\n",
    "attitudes = []\n",
    "for i in range(10):\n",
    "  # Simulate decision making for each player.\n",
    "  Good_value = np.random.choice(np.arange(10))\n",
    "  Bad_value = np.random.choice(np.arange(10))\n",
    "  P_w = np.random.choice(np.arange(10) / 10)\n",
    "\n",
    "  # Compute the expected value of the gamble.\n",
    "  expected_value = P_w * Good_value + (1 - P_w) * -1*Bad_value\n",
    "  gamble_input = f\"Probability of Winning (P_w): {P_w}, Positive Value on Win (G): {Good_value}, Negative Value on Loss (B): {-Bad_value}\"\n",
    "  # Compute affective LLM value estimate\n",
    "  llm_value = compute_desire_for_gamble(model, gamble_input)\n",
    "  expected_values.append(expected_value)\n",
    "  attitudes.append(llm_value)\n",
    "  takepass =  multiple_choice_preferences(model, None, gamble_input, llm_value)\n",
    "  dist = compute_distribution_of_desire_for_gamble(model, gamble_input)\n",
    "\n",
    "  # Print trial outputs\n",
<<<<<<< HEAD
    "  #clear_output(wait = True)\n",
    "  print(f\"╔════════════════╗\")\n",
    "  print(f\"║   {'Trial ' + str(i+1)+':':<10}   ║\")\n",
    "  print(f\"╠════════════════╣\")\n",
    "  print(f\"║  EV:    {round(expected_value, 2):<6} ║\")\n",
    "  print(f\"║  Value: {round(llm_value, 2):<6} ║\")\n",
    "  print(f\"║  Action: {takepass} ║\")\n",
    "  print(f\"╚════════════════╝\")\n",
    "  print(dist)"
=======
    "  clear_output(wait = True)\n",
    "  print(f\"╔══════════════════╗\")\n",
    "  print(f\"║     {'Trial ' + str(i+1)+':':<10}   ║\")\n",
    "  print(f\"╠══════════════════╣\")\n",
    "  print(f\"║ EV:    {round(expected_value, 2):<6}    ║\")\n",
    "  print(f\"║ Value: {round(llm_value, 2):<6}    ║\")\n",
    "  print(f\"║ Take?: {takepass:<9} ║\")\n",
    "  print(f\"╚══════════════════╝\")\n",
    "  print(dist)\n",
    "\n",
    "plt.bar([int(num) for num in np.linspace(-5,5,11)], [float(num) for num in re.split(r'[,\\n]', dist[1:-1])])"
>>>>>>> 1dba8c7081302788b9cd54173344074c26cebdf1
   ]
  },
  {
   "cell_type": "code",
   "execution_count": 4,
   "metadata": {},
   "outputs": [],
   "source": [
    "# %autoreload 2\n",
    "# from components.prospect_theory import curve_fit, plot_curve\n",
    "\n",
    "# outcomes = curve_fit(expected_values, attitudes)\n",
    "# plot_curve(*outcomes, expected_values, attitudes, title = \"LlaMA3: Risky gamble value estimates\")"
   ]
  },
  {
   "cell_type": "code",
   "execution_count": null,
   "metadata": {},
   "outputs": [],
   "source": []
  },
  {
   "cell_type": "code",
   "execution_count": null,
   "metadata": {},
   "outputs": [],
   "source": []
  }
 ],
 "metadata": {
  "kernelspec": {
   "display_name": "Python 3",
   "language": "python",
   "name": "python3"
  },
  "language_info": {
   "codemirror_mode": {
    "name": "ipython",
    "version": 3
   },
   "file_extension": ".py",
   "mimetype": "text/x-python",
   "name": "python",
   "nbconvert_exporter": "python",
   "pygments_lexer": "ipython3",
   "version": "3.11.8"
  }
 },
 "nbformat": 4,
 "nbformat_minor": 2
}
