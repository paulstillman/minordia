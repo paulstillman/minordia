{
 "cells": [
  {
   "cell_type": "code",
   "execution_count": 2,
   "metadata": {},
   "outputs": [
    {
     "name": "stdout",
     "output_type": "stream",
     "text": [
      "The autoreload extension is already loaded. To reload it, use:\n",
      "  %reload_ext autoreload\n"
     ]
    },
    {
     "ename": "ModuleNotFoundError",
     "evalue": "No module named 'language_models'",
     "output_type": "error",
     "traceback": [
      "\u001b[0;31m---------------------------------------------------------------------------\u001b[0m",
      "\u001b[0;31mModuleNotFoundError\u001b[0m                       Traceback (most recent call last)",
      "Cell \u001b[0;32mIn[2], line 16\u001b[0m\n\u001b[1;32m     13\u001b[0m \u001b[38;5;28;01mfrom\u001b[39;00m \u001b[38;5;21;01mIPython\u001b[39;00m\u001b[38;5;21;01m.\u001b[39;00m\u001b[38;5;21;01mdisplay\u001b[39;00m \u001b[38;5;28;01mimport\u001b[39;00m clear_output\n\u001b[1;32m     14\u001b[0m \u001b[38;5;28;01mfrom\u001b[39;00m \u001b[38;5;21;01mretry\u001b[39;00m \u001b[38;5;28;01mimport\u001b[39;00m retry\n\u001b[0;32m---> 16\u001b[0m \u001b[38;5;28;01mfrom\u001b[39;00m \u001b[38;5;21;01mlanguage_models\u001b[39;00m\u001b[38;5;21;01m.\u001b[39;00m\u001b[38;5;21;01mollama_model\u001b[39;00m \u001b[38;5;28;01mimport\u001b[39;00m OllamaLanguageModel\n\u001b[1;32m     18\u001b[0m \u001b[38;5;28;01mfrom\u001b[39;00m \u001b[38;5;21;01mcomponents\u001b[39;00m\u001b[38;5;21;01m.\u001b[39;00m\u001b[38;5;21;01mcomponents\u001b[39;00m \u001b[38;5;28;01mimport\u001b[39;00m compute_desire_for_gamble\n",
      "\u001b[0;31mModuleNotFoundError\u001b[0m: No module named 'language_models'"
     ]
    }
   ],
   "source": [
    "#@Imports\n",
    "import sys\n",
    "import os\n",
    "path = os.path.abspath('.')\n",
    "if path not in sys.path:\n",
    "  sys.path.insert(0, path)\n",
    "\n",
    "%load_ext autoreload\n",
    "\n",
    "import numpy as np\n",
    "import matplotlib.pyplot as plt\n",
    "\n",
    "from IPython.display import clear_output\n",
    "from retry import retry\n",
    "\n",
    "from language_models.ollama_model import OllamaLanguageModel\n",
    "\n",
    "from components.components import compute_desire_for_gamble"
   ]
  },
  {
   "cell_type": "code",
   "execution_count": 4,
   "metadata": {},
   "outputs": [],
   "source": [
    "system_message = (\"This is an agent based model. \"\n",
    "  f\"The goal of the LLM to to play characters in a game, and act as humanlike as possible. \"\n",
    "  \"Ideally, human observers should not be able to tell the difference between the LLM and a human player. \"\n",
    ")\n",
    "\n",
    "model = OllamaLanguageModel(\n",
    "\"llama3:70b\", system_message=system_message, streaming=False\n",
    ")"
   ]
  },
  {
   "cell_type": "code",
   "execution_count": 5,
   "metadata": {},
   "outputs": [
    {
     "name": "stdout",
     "output_type": "stream",
     "text": [
      "╔════════════════╗\n",
      "║   Trial 27:    ║\n",
      "╠════════════════╣\n",
      "║  EV:    2.8    ║\n",
      "║  Value: 0.6    ║\n",
      "╚════════════════╝\n"
     ]
    }
   ],
   "source": [
    "expected_values = []\n",
    "attitudes = []\n",
    "for i in range(500):\n",
    "  # Simulate decision making for each player.\n",
    "  Good_value = np.random.choice(np.arange(10))\n",
    "  Bad_value = np.random.choice(np.arange(10))\n",
    "  P_w = np.random.choice(np.arange(10) / 10)\n",
    "\n",
    "  # Compute the expected value of the gamble.\n",
    "  expected_value = P_w * Good_value + (1 - P_w) * -1*Bad_value\n",
    "  gamble_input = f\"Probability of Winning (P_w): {P_w}, Positive Value on Win (G): {Good_value}, Negative Value on Loss (B): {-Bad_value}\"\n",
    "  # Compute affective LLM value estimate\n",
    "  llm_value = compute_desire_for_gamble(model, gamble_input)\n",
    "  expected_values.append(expected_value)\n",
    "  attitudes.append(llm_value)\n",
    "\n",
    "  # Print trial outputs\n",
    "  clear_output(wait = True)\n",
    "  print(f\"╔════════════════╗\")\n",
    "  print(f\"║   {'Trial ' + str(i+1)+':':<10}   ║\")\n",
    "  print(f\"╠════════════════╣\")\n",
    "  print(f\"║  EV:    {round(expected_value, 2):<6} ║\")\n",
    "  print(f\"║  Value: {round(llm_value, 2):<6} ║\")\n",
    "  print(f\"╚════════════════╝\")"
   ]
  },
  {
   "cell_type": "code",
   "execution_count": null,
   "metadata": {},
   "outputs": [],
   "source": [
    "%autoreload 2\n",
    "from components.prospect_theory import curve_fit, plot_curve\n",
    "\n",
    "outcomes = curve_fit(expected_values, attitudes)\n",
    "plot_curve(*outcomes, expected_values, attitudes, title = \"LlaMA3: Risky gamble value estimates\")"
   ]
  },
  {
   "cell_type": "code",
   "execution_count": null,
   "metadata": {},
   "outputs": [],
   "source": []
  },
  {
   "cell_type": "code",
   "execution_count": null,
   "metadata": {},
   "outputs": [],
   "source": []
  }
 ],
 "metadata": {
  "kernelspec": {
   "display_name": "Python 3",
   "language": "python",
   "name": "python3"
  },
  "language_info": {
   "codemirror_mode": {
    "name": "ipython",
    "version": 3
   },
   "file_extension": ".py",
   "mimetype": "text/x-python",
   "name": "python",
   "nbconvert_exporter": "python",
   "pygments_lexer": "ipython3",
   "version": "3.12.1"
  }
 },
 "nbformat": 4,
 "nbformat_minor": 2
}
