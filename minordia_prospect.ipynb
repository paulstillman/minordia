{
 "cells": [
  {
   "cell_type": "code",
   "execution_count": null,
   "metadata": {},
   "outputs": [],
   "source": [
    "#@Imports\n",
    "import sys\n",
    "import os\n",
    "path = os.path.abspath('.')\n",
    "if path not in sys.path:\n",
    "  sys.path.insert(0, path)\n",
    "\n",
    "%load_ext autoreload\n",
    "\n",
    "import numpy as np\n",
    "import matplotlib.pyplot as plt\n",
    "\n",
    "from IPython.display import clear_output\n",
    "from retry import retry\n",
    "\n",
    "from ollama_model import OllamaLanguageModel"
   ]
  },
  {
   "cell_type": "code",
   "execution_count": null,
   "metadata": {},
   "outputs": [],
   "source": [
    "system_message = (\"This is an agent based model. \"\n",
    "  f\"The goal of the LLM to to play characters in a game, and act as humanlike as possible. \"\n",
    "  \"Ideally, human observers should not be able to tell the difference between the LLM and a human player. \"\n",
    ")\n",
    "\n",
    "model = OllamaLanguageModel(\n",
    "\"llama3\", system_message=system_message, streaming=False\n",
    ")\n",
    "\n",
    "@retry(ValueError, tries=5)\n",
    "def compute_desire_for_gamble(model: OllamaLanguageModel, object: str):\n",
    "  \"\"\"compute value.\"\"\"\n",
    "  request = (\n",
    "      f\"You are very logical and rational when doing this task\"\n",
    "      f\"You are presented with a gamble. it has a probability of winning, a value of winning, and a value of losing. \"\n",
    "      f\"If you win, you get the win value, if you lose, you get loss value. \"\n",
    "      f\"The probability of winning is the 'win_probability']. \"\n",
    "      f\"You need to think about an option, and how desirable it is. \"\n",
    "      f\"Compute the expected value of the gamble first. \"\n",
    "      f\"Think about how good or bad it is and provide a affective feeling preference value between -1 and 1 \"\n",
    "      f\"which corresponds to the desirability of the option. \"\n",
    "      f\"Use -1 for very bad, 0 for neutral, and 1 for very good. \"\n",
    "      f\"The option is: {object}\"\n",
    "      f\"Provide this answer in the form of a number between -1 and 1. \"\n",
    "      f\"Provide only a single number as the response.\"\n",
    "      f\"Do not provide any explanations, just provide a single number.\"\n",
    "  )\n",
    "\n",
    "  output = model.sample_text(\n",
    "    request\n",
    "  )\n",
    "  return float(output)"
   ]
  },
  {
   "cell_type": "code",
   "execution_count": null,
   "metadata": {},
   "outputs": [],
   "source": [
    "expected_values = []\n",
    "attitudes = []\n",
    "for i in range(500):\n",
    "  # Simulate decision making for each player.\n",
    "  Good_value = np.random.choice(np.arange(10))\n",
    "  Bad_value = np.random.choice(np.arange(10))\n",
    "  P_w = np.random.choice(np.arange(10) / 10)\n",
    "\n",
    "  # Compute the expected value of the gamble.\n",
    "  expected_value = P_w * Good_value + (1 - P_w) * -1*Bad_value\n",
    "  gamble_input = f\"Probability of Winning (P_w): {P_w}, Positive Value on Win (G): {Good_value}, Negative Value on Loss (B): {-Bad_value}\"\n",
    "  # Compute affective LLM value estimate\n",
    "  llm_value = compute_desire_for_gamble(model, gamble_input)\n",
    "  expected_values.append(expected_value)\n",
    "  attitudes.append(llm_value)\n",
    "\n",
    "  # Print trial outputs\n",
    "  clear_output(wait = True)\n",
    "  print(f\"╔════════════════╗\")\n",
    "  print(f\"║   {'Trial ' + str(i+1)+':':<10}   ║\")\n",
    "  print(f\"╠════════════════╣\")\n",
    "  print(f\"║  EV:    {round(expected_value, 2):<6} ║\")\n",
    "  print(f\"║  Value: {round(llm_value, 2):<6} ║\")\n",
    "  print(f\"╚════════════════╝\")"
   ]
  },
  {
   "cell_type": "code",
   "execution_count": null,
   "metadata": {},
   "outputs": [],
   "source": [
    "%autoreload 2\n",
    "from prospect_theory import curve_fit, plot_curve\n",
    "\n",
    "outcomes = curve_fit(expected_values, attitudes)\n",
    "plot_curve(*outcomes, expected_values, attitudes, title = \"LlaMA3: Risky gamble value estimates\")"
   ]
  },
  {
   "cell_type": "code",
   "execution_count": null,
   "metadata": {},
   "outputs": [],
   "source": []
  },
  {
   "cell_type": "code",
   "execution_count": null,
   "metadata": {},
   "outputs": [],
   "source": []
  }
 ],
 "metadata": {
  "kernelspec": {
   "display_name": "Python 3",
   "language": "python",
   "name": "python3"
  },
  "language_info": {
   "codemirror_mode": {
    "name": "ipython",
    "version": 3
   },
   "file_extension": ".py",
   "mimetype": "text/x-python",
   "name": "python",
   "nbconvert_exporter": "python",
   "pygments_lexer": "ipython3",
   "version": "3.11.8"
  }
 },
 "nbformat": 4,
 "nbformat_minor": 2
}
