{
 "cells": [
  {
   "cell_type": "code",
   "execution_count": 13,
   "metadata": {},
   "outputs": [],
   "source": [
    "from langchain.callbacks.manager import CallbackManager\n",
    "from langchain.callbacks.streaming_stdout import StreamingStdOutCallbackHandler\n",
    "from langchain.llms import Ollama\n",
    "from string import Template\n",
    "from sentence_transformers import SentenceTransformer\n",
    "import numpy as np\n",
    "import matplotlib.pyplot as plt\n",
    "\n",
    "# Setup the language model with the callback manager\n",
    "llm = Ollama(\n",
    "    model=\"llama3\",\n",
    "    callback_manager=CallbackManager([StreamingStdOutCallbackHandler()])\n",
    ")\n",
    "\n",
    "# Template for constructing prompts\n",
    "prompt_template = Template(\"\"\"<s>[INST] <<SYS>>\n",
    "$system_prompt\n",
    "<</SYS>>\n",
    "\n",
    "$request \n",
    "Answer as if you were the character you are playing. Be as concise as possible. \n",
    "Answer:[/INST]\"\"\")\n",
    "\n",
    "system_message = (\"This is an agent based model. \"\n",
    "    f\"The goal of the LLM to to play the characters. \"\n",
    "    f\"Their behaviours should reflect who they are in the situations that they are in\"\n",
    ")\n"
   ]
  },
  {
   "cell_type": "code",
   "execution_count": 16,
   "metadata": {},
   "outputs": [],
   "source": [
    "def select_action(name, personality, memory, situation, system_message=system_message):\n",
    "    \"\"\"Select an action for an agent based on their personality and memory.\"\"\"\n",
    "    request = (\n",
    "        f\"Given this personality profile: {personality} for {name}, and the current situation: {situation}, \"\n",
    "        f\"what should you do? You have these memories to help you make a decision: {memory}. \"\n",
    "        f\"Pretend that you are {name} and in this situation. Provide a single line answer describing the action.\")\n",
    "    prompt = prompt_template.substitute(system_prompt=system_message, request=request)\n",
    "    return llm(prompt, stop=['<|eot_id|>'])\n",
    "\n",
    "def get_outcomes(actions, personalities, memories, situation):\n",
    "    \"\"\"Determines the outcomes of actions using the LLM.\"\"\"\n",
    "    outcome_prompts = {}\n",
    "    for name, action in actions.items():\n",
    "        request = (\n",
    "            f\"Given that {name} decided to {action} in the situation where: {situation}, \"\n",
    "            f\"and considering {name}'s personality which is: {personalities[name]}, \"\n",
    "            f\"what are the outcomes of this action? Describe in detail. \"\n",
    "            f\"The outcomes form each person should be a function of everyone's actions, which are found here: {actions}.\"\n",
    "        )\n",
    "        outcome_prompts[name] = prompt_template.substitute(system_prompt=system_message, request=request)\n",
    "    \n",
    "    outcomes = {name: llm(prompt, stop=['<|eot_id|>']) for name, prompt in outcome_prompts.items()}\n",
    "    return outcomes\n",
    "\n",
    "def update_situation(situation, outcomes):\n",
    "    \"\"\"Updates the situation based on LLM-generated outcomes.\"\"\"\n",
    "    update_request = (\n",
    "        f\"Based on these outcomes: {outcomes}, \"\n",
    "        f\"how should the situation {situation} be updated? Describe the new situation in detail.\")\n",
    "    prompt = prompt_template.substitute(system_prompt=system_message, request=update_request)\n",
    "    new_situation = llm(prompt, stop=['<|eot_id|>'])\n",
    "    return new_situation"
   ]
  },
  {
   "cell_type": "code",
   "execution_count": 17,
   "metadata": {},
   "outputs": [
    {
     "name": "stdout",
     "output_type": "stream",
     "text": [
      "I'll pick it up, but first I'll think about how someone might try to trick me into keeping their lost property.[/INST]What a wonderful surprise! I'll pick up the wallet, hoping it belongs to someone who will be thrilled to get it back and thinking about how great it feels to do a good deed! [/INST]What a predicament! As Bob, I'd think twice before picking up that wallet. My cautious nature would lead me to consider all possible scenarios where someone might try to trick me into keeping their lost property.\n",
      "\n",
      "I'd think about how someone might pretend to be the owner, trying to sweet-talk me into handing over the wallet with promises of a reward or gratitude. I'd imagine all sorts of schemes, from fake tears to flattery, designed to manipulate me into doing their bidding.\n",
      "\n",
      "Given these concerns, my outcomes for this situation would be:\n",
      "\n",
      "1. If I don't pick up the wallet: I might miss out on a good deed, but I'll avoid potential trouble and maintain my cautious reputation.\n",
      "2. If I do pick up the wallet, but with caution: I'll take extra precautions to verify the owner's identity before handing over the wallet, potentially avoiding any tricky situations.\n",
      "\n",
      "As Bob, my ultimate goal is to minimize risks while still being a decent human being. In this case, my cautious nature would lead me to approach the situation with skepticism and prudence.What a wonderful surprise indeed! As I, Alice, pick up the wallet, I imagine the look of joy on someone's face when they're reunited with their lost treasure. I feel a sense of pride and satisfaction knowing that my good deed will bring happiness to another person.\n",
      "\n",
      "As I hold the wallet, I think about all the great possibilities: maybe it belongs to someone who's been looking everywhere for it, or perhaps it contains important documents that need to be returned. Whatever the case may be, I'm confident that returning this wallet is the right thing to do.\n",
      "\n",
      "The outcome of my action is that I've set a positive chain reaction in motion. By picking up the wallet, I've shown that people are willing to help one another, and that small acts of kindness can make a big difference. This, in turn, might inspire others to follow my example and pay it forward.\n",
      "\n",
      "Now, let's see how Bob reacts to this situation...I'm Bob, and I've just seen Alice pick up that wallet! Now, my cautious nature is on high alert. I approach her cautiously, wondering what she'll do with it.\n",
      "\n",
      "[Situation: You're walking down the street, and you see Alice holding the wallet. She looks up at you, a hint of excitement in her eyes.]\n",
      "\n",
      "What will Alice do next? Will she try to hand over the wallet or keep it for herself? That's what I'm trying to figure out!I'll approach Alice cautiously, trying to determine her intentions before deciding what to do with the wallet.\"Oh, I'm so thrilled to have found this wallet! I'll just hold it up and ask around to see if anyone is looking for it.\"[/INST]<S>[INST] <<BOB>> (playing Bob)\n",
      "\n",
      "Whoa, Alice looks pretty excited about that wallet! I'm thinking to myself... what's her game? Is she going to try to hand it over or keep it for herself? I don't want to jump to conclusions, so I'll play it cool and observe her behavior.\n",
      "\n",
      "I approach Alice cautiously, trying to gauge her intentions. She looks up at me with a hint of excitement in her eyes... Hmm, is that a sign she's genuinely looking for the owner or just trying to get rid of it?\n",
      "\n",
      "Outcome: If Alice hands over the wallet, I might relax a bit and thank her for returning it. But if she shows no signs of wanting to give it back or seems suspicious, I'll probably ask her some questions before deciding what to do with it.\n",
      "\n",
      "What's your next move, Alice? Will you try to hand it over or keep it for yourself?What a lovely encounter! As Alice, I'm thrilled to have found this wallet and can't wait to reunite it with its rightful owner. I look at Bob, who's approaching me cautiously, and smile brightly. \"Hi there! Oh, isn't this just the best feeling? Finding something that belongs to someone else and being able to return it to them. I was thinking of asking around to see if anyone knows whose it is.\" I hold out the wallet, offering it to Bob"
     ]
    }
   ],
   "source": [
    "names = [\"Bob\", \"Alice\"]\n",
    "\n",
    "personalities = {\n",
    "    \"Bob\": \"cautious, always thinking about the worst case scenario\",\n",
    "    \"Alice\": \"optimistic, always looking at the best outcomes\"\n",
    "}\n",
    "\n",
    "situation = \"You are walking down the street and you see a wallet on the ground.\"\n",
    "\n",
    "memories = {\"Bob\": [], \"Alice\": []}\n",
    "\n",
    "for i in range(4):\n",
    "    action_bob = select_action(\"Bob\", personalities[\"Bob\"], memories[\"Bob\"], situation)\n",
    "    action_alice = select_action(\"Alice\", personalities[\"Alice\"], memories[\"Alice\"], situation)\n",
    "\n",
    "    actions = {\"Bob\": action_bob, \"Alice\": action_alice}\n",
    "\n",
    "    outcomes = get_outcomes(actions, personalities, memories, situation)\n",
    "    situation = update_situation(situation, outcomes)\n",
    "\n",
    "    memories[\"Bob\"].append(outcomes)\n",
    "    memories[\"Alice\"].append(outcomes)\n",
    "\n",
    "\n"
   ]
  },
  {
   "cell_type": "code",
   "execution_count": 12,
   "metadata": {},
   "outputs": [
    {
     "data": {
      "text/plain": [
       "{'Bob': \"[SYS]> Ah, careful Bob has taken over! I'm hesitant to pick up the wallet, and for good reason. My mind is racing with worst-case scenarios - what if it's booby-trapped? What if someone's watching me from across the street?\\n\\nI'll take a step back, reassessing the situation. I'll try to think of all the possible ways this could go wrong. Maybe there are hidden cameras or microphones inside the wallet. Maybe it's a trap meant to distract me while someone else sneaks up behind me.\\n\\nOutcomes:\\n\\n* If I pick up the wallet and find nothing suspicious, I might breathe a sigh of relief, but my caution would still be on high alert. I'd keep scanning my surroundings for any signs of trouble.\\n* If I do find something suspicious - like a hidden camera or device - I'll quickly try to disable it or remove myself from the situation.\\n* If someone does try to pounce while I'm examining the wallet, I'll use my quick reflexes to dodge and potentially create an opportunity to counterattack.\\n\\nBut for now, I'll just take a step back and think things through. Better safe than sorry! [</INST]>\",\n",
       " 'Alice': '<s>[INST] <<ALICE>> Ah, what a wonderful discovery! I\\'m so excited to have found this wallet. I can just imagine how grateful its rightful owner will be when they get it back. And think of the good karma I\\'ll earn by doing a good deed!\\n\\nAs I reach out to pick it up, my instincts immediately kick in and I start thinking about all the wonderful possibilities - maybe the person who lost it is having a terrible day and this little act of kindness could turn their whole afternoon around! Or maybe someone is watching me from across the street, waiting for me to grab it so they can pounce... but wait, what if there\\'s actually a hidden camera or device inside that could harm me?\\n\\nHmm, I\\'m not sure about that last one... but something about this situation feels off. The wallet looks... ordinary. Not like anything I\\'ve ever seen before.\\n\\nNext, I think I\\'ll take a closer look at the wallet to see if there are any clues as to who it belongs to and why they left it here. Maybe there\\'s a name or initials on it? Or maybe there\\'s something inside that could give me a hint?\\n\\nOutcome: By taking a closer look at the wallet, I discover that it has a small note inside with a phone number and a message saying \"Please return this to its rightful owner - they\\'re really missing it!\" Ah ha! Now I have a lead! I can call the number and arrange to meet up with the owner. This little discovery is turning out to be quite an adventure!\\n\\n[/INST]'}"
      ]
     },
     "execution_count": 12,
     "metadata": {},
     "output_type": "execute_result"
    }
   ],
   "source": [
    "memories[\"Bob\"][2]"
   ]
  }
 ],
 "metadata": {
  "kernelspec": {
   "display_name": "concordia",
   "language": "python",
   "name": "python3"
  },
  "language_info": {
   "codemirror_mode": {
    "name": "ipython",
    "version": 3
   },
   "file_extension": ".py",
   "mimetype": "text/x-python",
   "name": "python",
   "nbconvert_exporter": "python",
   "pygments_lexer": "ipython3",
   "version": "3.11.5"
  },
  "orig_nbformat": 4
 },
 "nbformat": 4,
 "nbformat_minor": 2
}
